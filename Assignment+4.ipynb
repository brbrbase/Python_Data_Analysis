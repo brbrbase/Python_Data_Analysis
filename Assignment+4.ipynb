{
 "cells": [
  {
   "cell_type": "markdown",
   "metadata": {},
   "source": [
    "---\n",
    "\n",
    "_You are currently looking at **version 1.1** of this notebook. To download notebooks and datafiles, as well as get help on Jupyter notebooks in the Coursera platform, visit the [Jupyter Notebook FAQ](https://www.coursera.org/learn/python-data-analysis/resources/0dhYG) course resource._\n",
    "\n",
    "---"
   ]
  },
  {
   "cell_type": "code",
   "execution_count": 1,
   "metadata": {
    "collapsed": true
   },
   "outputs": [],
   "source": [
    "import pandas as pd\n",
    "import numpy as np\n",
    "from scipy.stats import ttest_ind"
   ]
  },
  {
   "cell_type": "markdown",
   "metadata": {},
   "source": [
    "# Assignment 4 - Hypothesis Testing\n",
    "This assignment requires more individual learning than previous assignments - you are encouraged to check out the [pandas documentation](http://pandas.pydata.org/pandas-docs/stable/) to find functions or methods you might not have used yet, or ask questions on [Stack Overflow](http://stackoverflow.com/) and tag them as pandas and python related. And of course, the discussion forums are open for interaction with your peers and the course staff.\n",
    "\n",
    "Definitions:\n",
    "* A _quarter_ is a specific three month period, Q1 is January through March, Q2 is April through June, Q3 is July through September, Q4 is October through December.\n",
    "* A _recession_ is defined as starting with two consecutive quarters of GDP decline, and ending with two consecutive quarters of GDP growth.\n",
    "* A _recession bottom_ is the quarter within a recession which had the lowest GDP.\n",
    "* A _university town_ is a city which has a high percentage of university students compared to the total population of the city.\n",
    "\n",
    "**Hypothesis**: University towns have their mean housing prices less effected by recessions. Run a t-test to compare the ratio of the mean price of houses in university towns the quarter before the recession starts compared to the recession bottom. (`price_ratio=quarter_before_recession/recession_bottom`)\n",
    "\n",
    "The following data files are available for this assignment:\n",
    "* From the [Zillow research data site](http://www.zillow.com/research/data/) there is housing data for the United States. In particular the datafile for [all homes at a city level](http://files.zillowstatic.com/research/public/City/City_Zhvi_AllHomes.csv), ```City_Zhvi_AllHomes.csv```, has median home sale prices at a fine grained level.\n",
    "* From the Wikipedia page on college towns is a list of [university towns in the United States](https://en.wikipedia.org/wiki/List_of_college_towns#College_towns_in_the_United_States) which has been copy and pasted into the file ```university_towns.txt```.\n",
    "* From Bureau of Economic Analysis, US Department of Commerce, the [GDP over time](http://www.bea.gov/national/index.htm#gdp) of the United States in current dollars (use the chained value in 2009 dollars), in quarterly intervals, in the file ```gdplev.xls```. For this assignment, only look at GDP data from the first quarter of 2000 onward.\n",
    "\n",
    "Each function in this assignment below is worth 10%, with the exception of ```run_ttest()```, which is worth 50%."
   ]
  },
  {
   "cell_type": "code",
   "execution_count": 2,
   "metadata": {
    "collapsed": true
   },
   "outputs": [],
   "source": [
    "# Use this dictionary to map state names to two letter acronyms\n",
    "states = ({'OH': 'Ohio', 'KY': 'Kentucky', 'AS': 'American Samoa', 'NV': 'Nevada', 'WY': 'Wyoming', \n",
    "           'NA': 'National', 'AL': 'Alabama', 'MD': 'Maryland', 'AK': 'Alaska', 'UT': 'Utah', \n",
    "           'OR': 'Oregon', 'MT': 'Montana', 'IL': 'Illinois', 'TN': 'Tennessee', 'DC': 'District of Columbia', \n",
    "           'VT': 'Vermont', 'ID': 'Idaho', 'AR': 'Arkansas', 'ME': 'Maine', 'WA': 'Washington', 'HI': 'Hawaii', \n",
    "           'WI': 'Wisconsin', 'MI': 'Michigan', 'IN': 'Indiana', 'NJ': 'New Jersey', 'AZ': 'Arizona', \n",
    "           'GU': 'Guam', 'MS': 'Mississippi', 'PR': 'Puerto Rico', 'NC': 'North Carolina', 'TX': 'Texas', \n",
    "           'SD': 'South Dakota', 'MP': 'Northern Mariana Islands', 'IA': 'Iowa', 'MO': 'Missouri', \n",
    "           'CT': 'Connecticut', 'WV': 'West Virginia', 'SC': 'South Carolina', 'LA': 'Louisiana', \n",
    "           'KS': 'Kansas', 'NY': 'New York', 'NE': 'Nebraska', 'OK': 'Oklahoma', 'FL': 'Florida', \n",
    "           'CA': 'California', 'CO': 'Colorado', 'PA': 'Pennsylvania', 'DE': 'Delaware', 'NM': 'New Mexico', \n",
    "           'RI': 'Rhode Island', 'MN': 'Minnesota', 'VI': 'Virgin Islands', 'NH': 'New Hampshire', \n",
    "           'MA': 'Massachusetts', 'GA': 'Georgia', 'ND': 'North Dakota', 'VA': 'Virginia'})"
   ]
  },
  {
   "cell_type": "code",
   "execution_count": 3,
   "metadata": {
    "collapsed": true,
    "umich_part_id": "021",
    "umich_partlist_id": "004"
   },
   "outputs": [],
   "source": [
    "def get_list_of_university_towns():\n",
    "    '''Returns a DataFrame of towns and the states they are in from the \n",
    "    university_towns.txt list. The format of the DataFrame should be:\n",
    "    DataFrame( [ [\"Michigan\", \"Ann Arbor\"], [\"Michigan\", \"Yipsilanti\"] ], \n",
    "    columns=[\"State\", \"RegionName\"]  )\n",
    "    \n",
    "    The following cleaning needs to be done:\n",
    "\n",
    "    1. For \"State\", removing characters from \"[\" to the end.\n",
    "    2. For \"RegionName\", when applicable, removing every character from \" (\" to the end.\n",
    "    3. Depending on how you read the data, you may need to remove newline character '\\n'. '''\n",
    "    \n",
    "    with open('university_towns.txt') as file:\n",
    "        data = []\n",
    "        for line in file:\n",
    "            data.append(line[:-1])\n",
    "    state_town = []\n",
    "    for line in data:\n",
    "        if line[-6:] == '[edit]':\n",
    "            state = line[:-6]\n",
    "        elif '(' in line:\n",
    "            town = line[:line.index('(')-1]\n",
    "            state_town.append([state, town])\n",
    "        else:\n",
    "            town = line.rstrip()\n",
    "            state_town.append([state, town])\n",
    "    \n",
    "    df = pd.DataFrame(state_town, columns = ['State', 'RegionName'])\n",
    "    \n",
    "    return df"
   ]
  },
  {
   "cell_type": "code",
   "execution_count": 4,
   "metadata": {
    "collapsed": true,
    "umich_part_id": "022",
    "umich_partlist_id": "004"
   },
   "outputs": [],
   "source": [
    "def get_recession_start():\n",
    "    '''Returns the year and quarter of the recession start time as a \n",
    "    string value in a format such as 2005q3'''\n",
    "    \n",
    "    GDP = pd.read_excel('gdplev.xls', skiprows=7)\n",
    "    GDP = GDP[['Unnamed: 4', 'Unnamed: 5']].loc[212:]\n",
    "    GDP.columns = ['Quarter', 'GDP']\n",
    "    GDP['GDP'] = pd.to_numeric(GDP['GDP'])\n",
    "    GDP = GDP.reset_index()\n",
    "    GDP = GDP[['Quarter', 'GDP']]\n",
    "    recession_start = []\n",
    "    for i in range(2, len(GDP)):\n",
    "        if (GDP.iloc[i-2][1] > GDP.iloc[i-1][1]) & (GDP.iloc[i-1][1] > GDP.iloc[i][1]): \n",
    "            recession_start.append(GDP.iloc[i-2][0])\n",
    "        \n",
    "    return recession_start[0]\n"
   ]
  },
  {
   "cell_type": "code",
   "execution_count": 5,
   "metadata": {
    "collapsed": true,
    "umich_part_id": "023",
    "umich_partlist_id": "004"
   },
   "outputs": [],
   "source": [
    "def get_recession_end():\n",
    "    '''Returns the year and quarter of the recession end time as a \n",
    "    string value in a format such as 2005q3'''\n",
    "       \n",
    "    GDP = pd.read_excel('gdplev.xls', skiprows=7)\n",
    "    GDP = GDP[['Unnamed: 4', 'Unnamed: 5']].loc[212:]\n",
    "    GDP.columns = ['Quarter', 'GDP']\n",
    "    GDP['GDP'] = pd.to_numeric(GDP['GDP'])\n",
    "    recession_start = get_recession_start()\n",
    "    GDP = GDP.reset_index()\n",
    "    index = GDP[GDP['Quarter'] == recession_start].index.tolist()[0]\n",
    "    GDP = GDP[index:]\n",
    "    recession_end = []\n",
    "    for i in range(len(GDP)):\n",
    "        if (GDP.iloc[i-2][2] < GDP.iloc[i-1][2]) & (GDP.iloc[i-1][2] < GDP.iloc[i][2]): \n",
    "            recession_end.append(GDP.iloc[i][1])\n",
    "    return recession_end[0]\n",
    "\n"
   ]
  },
  {
   "cell_type": "code",
   "execution_count": 6,
   "metadata": {
    "collapsed": true,
    "umich_part_id": "024",
    "umich_partlist_id": "004"
   },
   "outputs": [],
   "source": [
    "def get_recession_bottom():\n",
    "    '''Returns the year and quarter of the recession bottom time as a \n",
    "    string value in a format such as 2005q3'''\n",
    "       \n",
    "    GDP = pd.read_excel('gdplev.xls', skiprows=7)\n",
    "    GDP = GDP[['Unnamed: 4', 'Unnamed: 5']].loc[212:]\n",
    "    GDP.columns = ['Quarter', 'GDP']\n",
    "    GDP['GDP'] = pd.to_numeric(GDP['GDP'])\n",
    "    recession_start = get_recession_start()\n",
    "    recession_end = get_recession_end()\n",
    "    GDP = GDP.reset_index()\n",
    "    GDP = GDP.drop('index', axis=1)\n",
    "    start_index = GDP[GDP['Quarter'] == recession_start].index.tolist()[0]\n",
    "    end_index = GDP[GDP['Quarter'] == recession_end].index.tolist()[0]\n",
    "    GDP = GDP.iloc[start_index:end_index+1]\n",
    "    recession_bottom = GDP['GDP'].min()\n",
    "    bottom_index = GDP[GDP['GDP'] == recession_bottom].index.tolist()[0]\n",
    "    return GDP.loc[bottom_index]['Quarter']\n",
    "\n"
   ]
  },
  {
   "cell_type": "code",
   "execution_count": 7,
   "metadata": {
    "collapsed": true,
    "umich_part_id": "025",
    "umich_partlist_id": "004"
   },
   "outputs": [],
   "source": [
    "def convert_housing_data_to_quarters():\n",
    "    '''Converts the housing data to quarters and returns it as mean \n",
    "    values in a dataframe. This dataframe should be a dataframe with\n",
    "    columns for 2000q1 through 2016q3, and should have a multi-index\n",
    "    in the shape of [\"State\",\"RegionName\"].\n",
    "    \n",
    "    Note: Quarters are defined in the assignment description, they are\n",
    "    not arbitrary three month periods.\n",
    "    \n",
    "    The resulting dataframe should have 67 columns, and 10,730 rows.\n",
    "    '''\n",
    "    #Load/clean data\n",
    "    housing_df = pd.read_csv('City_Zhvi_AllHomes.csv')\n",
    "    housing_df = housing_df.drop(['RegionID', 'Metro', 'CountyName', 'SizeRank'], axis=1)\n",
    "    housing_df = housing_df.drop(housing_df.columns[2:47], axis=1)\n",
    "    housing_df['State'] = housing_df['State'].map(states)\n",
    "    housing_df = housing_df.set_index(['State', 'RegionName'])\n",
    "    \n",
    "    #convert from months to quarters and return mean value\n",
    "    housing_df = housing_df.groupby(pd.PeriodIndex(housing_df.columns, freq='Q'), axis=1).mean()\n",
    "\n",
    "    return housing_df"
   ]
  },
  {
   "cell_type": "code",
   "execution_count": 9,
   "metadata": {
    "umich_part_id": "026",
    "umich_partlist_id": "004"
   },
   "outputs": [
    {
     "data": {
      "text/plain": [
       "(True, 0.0043252148535112009, 'university town')"
      ]
     },
     "execution_count": 9,
     "metadata": {},
     "output_type": "execute_result"
    }
   ],
   "source": [
    "def run_ttest():\n",
    "    '''First creates new data showing the decline or growth of housing prices\n",
    "    between the recession start and the recession bottom. Then runs a ttest\n",
    "    comparing the university town values to the non-university towns values, \n",
    "    return whether the alternative hypothesis (that the two groups are the same)\n",
    "    is true or not as well as the p-value of the confidence. \n",
    "    \n",
    "    Return the tuple (different, p, better) where different=True if the t-test is\n",
    "    True at a p<0.01 (we reject the null hypothesis), or different=False if \n",
    "    otherwise (we cannot reject the null hypothesis). The variable p should\n",
    "    be equal to the exact p value returned from scipy.stats.ttest_ind(). The\n",
    "    value for better should be either \"university town\" or \"non-university town\"\n",
    "    depending on which has a lower mean price ratio (which is equivilent to a\n",
    "    reduced market loss).'''\n",
    "    \n",
    "    #Load Data\n",
    "    housing_data = convert_housing_data_to_quarters().copy()\n",
    "    uni_towns = get_list_of_university_towns()\n",
    "    recession_start = get_recession_start()\n",
    "    recession_bottom = get_recession_bottom()\n",
    "    \n",
    "    #Format Housing Data\n",
    "    start = housing_data.columns.get_loc(pd.Period(recession_start))\n",
    "    end = housing_data.columns.get_loc(pd.Period(recession_bottom))\n",
    "    housing_data = housing_data[[start, end]]\n",
    "    housing_data.columns = housing_data.columns.strftime('%YQ%q')   #convert period type to str\n",
    "    \n",
    "    #Calculate growth ratio\n",
    "    housing_data['Ratio'] = (housing_data['2008Q3'] - housing_data['2009Q2'])\n",
    "\n",
    "    housing_data = housing_data.reset_index()\n",
    "    \n",
    "    #Merge Data, adding unversity town/not university town indicators (bool)\n",
    "    uni_housing_data = (pd.merge(housing_data, uni_towns, \n",
    "                                 how='inner', \n",
    "                                 on=['State', 'RegionName']))\n",
    "    uni_housing_data['University Town?'] = True\n",
    "    merged_data = (pd.merge(housing_data, uni_housing_data, \n",
    "                            how='outer', \n",
    "                            on=['State', 'RegionName', '2008Q3', '2009Q2', 'Ratio']))\n",
    "    merged_data['University Town?'].fillna(False, inplace=True)\n",
    "    university_town = merged_data[merged_data['University Town?'] == True]\n",
    "    not_university_town = merged_data[merged_data['University Town?'] == False]\n",
    "    \n",
    "    #Run ttest and calculate 'different', 'p' and 'better'\n",
    "    t, p = ttest_ind(university_town['Ratio'].dropna(), not_university_town['Ratio'].dropna())\n",
    "    different = True if p < 0.01 else False\n",
    "    better = ('university town' if university_town['Ratio'].mean() < not_university_town['Ratio'].mean() \n",
    "            else 'not university town')\n",
    "    \n",
    "    return (different, p, better)\n",
    "run_ttest()"
   ]
  },
  {
   "cell_type": "code",
   "execution_count": null,
   "metadata": {
    "collapsed": true
   },
   "outputs": [],
   "source": []
  },
  {
   "cell_type": "code",
   "execution_count": null,
   "metadata": {
    "collapsed": true
   },
   "outputs": [],
   "source": []
  }
 ],
 "metadata": {
  "coursera": {
   "course_slug": "python-data-analysis",
   "graded_item_id": "Il9Fx",
   "launcher_item_id": "TeDW0",
   "part_id": "WGlun"
  },
  "kernelspec": {
   "display_name": "Python 3",
   "language": "python",
   "name": "python3"
  },
  "language_info": {
   "codemirror_mode": {
    "name": "ipython",
    "version": 3
   },
   "file_extension": ".py",
   "mimetype": "text/x-python",
   "name": "python",
   "nbconvert_exporter": "python",
   "pygments_lexer": "ipython3",
   "version": "3.6.2"
  },
  "umich": {
   "id": "Assignment 4",
   "version": "1.1"
  }
 },
 "nbformat": 4,
 "nbformat_minor": 1
}
